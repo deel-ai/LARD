{
 "cells": [
  {
   "attachments": {},
   "cell_type": "markdown",
   "metadata": {},
   "source": [
    "## Scenario generation\n",
    "This notebook guides you through the process of generating a scenario for Google Earth Studio, in a `.esp` format, corresponding to positions in a specific landing cone.\n",
    "\n",
    "Before generating a scenario, the trajectory parameters can be defined in 2 different ways presented below:\n",
    "1) By modifying a `Config` object as illustrated in this notebook\n",
    "2) Using a scenario file `.yaml`, (equivalent to the `CLI` method presented in the [Readme](README.md))"
   ]
  },
  {
   "cell_type": "code",
   "execution_count": 1,
   "metadata": {},
   "outputs": [
    {
     "name": "stderr",
     "output_type": "stream",
     "text": [
      "c:\\Users\\vincent.mussot\\Miniconda3\\envs\\LARD_env\\lib\\site-packages\\pyproj\\__init__.py:89: UserWarning: pyproj unable to set database path.\n",
      "  _pyproj_global_context_initialize()\n"
     ]
    }
   ],
   "source": [
    "import json\n",
    "import os\n",
    "from pathlib import Path\n",
    "\n",
    "from src.scenario.write_scenario import write_scenario\n",
    "from src.scenario.scenario_config import ScenarioConfig"
   ]
  },
  {
   "attachments": {},
   "cell_type": "markdown",
   "metadata": {},
   "source": [
    "## Scenario generation using a `Config` object"
   ]
  },
  {
   "attachments": {},
   "cell_type": "markdown",
   "metadata": {},
   "source": [
    "- Visualisation of the available airports in the dabatase"
   ]
  },
  {
   "cell_type": "code",
   "execution_count": 2,
   "metadata": {},
   "outputs": [
    {
     "name": "stdout",
     "output_type": "stream",
     "text": [
      "['ZBAA', 'LTAI', 'LICJ', 'LPPT', 'LIRN', 'EDDV', 'LSZH', 'LEMD', 'LWSK', 'VHHH', 'CYUL', 'VRMM', 'LFSB', 'LCPH', 'GCRR', 'EHAM', 'SAEZ', 'LFRN', 'LFRS', 'LFPO', 'LFQQ', 'LFST', 'LFMP', 'DAAG', 'VABB', 'BIRK', 'YBBN', 'CYVR', 'CYYZ', 'KIAH', 'KJFK', 'KMIA', 'KSFO', 'MDSD', 'RJAA', 'RJTT', 'WSSS', 'FMEP', 'VQPR', 'DIAP', 'KMSY', 'SRLI', 'VDPP', 'RPMD', 'VOTV', 'YMLT', 'OMAD', 'HTDA', 'FTTJ', 'LOWL', 'LGSM', 'DAAS', 'SEQM', 'RANG_2', 'RANG', 'FAKE', 'ESOK', 'ESSV', 'ESNS', 'VEBS', 'RPVP', 'MPMG']\n"
     ]
    }
   ],
   "source": [
    "data_file = './data/runways_database.json'\n",
    "\n",
    "with open(data_file, 'r') as f:\n",
    "    runways_database = json.load(f)\n",
    "airports = [airport for airport in runways_database]\n",
    "\n",
    "print(airports)"
   ]
  },
  {
   "attachments": {},
   "cell_type": "markdown",
   "metadata": {},
   "source": [
    "- Once the airports of interest are selected, we can create the corresponding scenarios:"
   ]
  },
  {
   "cell_type": "code",
   "execution_count": 3,
   "metadata": {},
   "outputs": [
    {
     "name": "stdout",
     "output_type": "stream",
     "text": [
      "Scenario exported as .esp : scenarios\\KMSY-11-29-2-20__3-smpl__17h49.esp\n",
      "Scenario exported as yaml : scenarios\\KMSY-11-29-2-20__3-smpl__17h49.yaml\n"
     ]
    }
   ],
   "source": [
    "airports = ['MDSD', 'RJAA', 'RJTT', 'WSSS', 'FMEP', 'VQPR', 'DIAP', 'KMSY', 'SRLI', 'VDPP', 'RPMD', 'VOTV', 'YMLT', 'OMAD', 'HTDA', 'FTTJ', 'LOWL', 'LGSM', 'DAAS', 'SEQM'] # An example of airport selection\n",
    "airports = ['ESOK', 'ESSV', 'ESNS', 'VEBS', 'RPVP']\n",
    "airports = ['MPMG']\n",
    "output_directory = Path(\"scenarios/\") # Creation of the scenario output if needed directory\n",
    "os.makedirs(output_directory, exist_ok=True)\n",
    "\n",
    "airports_runways = {\n",
    "    # \"MDSD\": [], # ALL available runways for this airport\n",
    "    \"KMSY\": [],\n",
    "    # \"MPMG\": [\"01\", \"19\"], # Example of specific runways\n",
    "    # Add more airports and their runways if needed\n",
    "}\n",
    "\n",
    "conf = ScenarioConfig(airports_runways, scenario_dir=output_directory)\n",
    "\n",
    "conf.sample_number = 3 # Number of images to generate for each runway\n",
    "conf.height = 1080\n",
    "conf.width = 1920\n",
    "\n",
    "# Date and time parameters\n",
    "conf.month_max = 8\n",
    "conf.month_min = 4\n",
    "conf.day_max = 1\n",
    "conf.day_min = 1\n",
    "conf.hour_max = 16\n",
    "conf.hour_min = 10\n",
    "conf.minute_max = 0\n",
    "conf.minute_min = 0       \n",
    "\n",
    "# Distance to runway parameters\n",
    "conf.max_distance_m  = 5556 # Default value corresponding to 3 Nautical Mile\n",
    "conf.min_distance_m  = 450 # Min distance to runway\n",
    "\n",
    "# Distribution used for the distances from the runway (details in generate_dist in src/ges/ges_dataset)\n",
    "conf.distrib_param   = 1.7\n",
    "conf.distribution    = \"exp\"        \n",
    "\n",
    "# Horizontal deviation parameters\n",
    "conf.alpha_h_deg     = 0.0\n",
    "conf.std_alpha_h_deg = 2\n",
    "\n",
    "# Vertical deviation parameters\n",
    "conf.alpha_v_deg     = -3\n",
    "conf.std_alpha_v_deg = 0.4\n",
    "\n",
    "# Yaw parameters\n",
    "conf.yaw_deg         = 0.0\n",
    "conf.std_yaw_deg     = 5.0\n",
    "\n",
    "# Pitch parameters\n",
    "conf.pitch_deg       = -4\n",
    "conf.std_pitch_deg   = 2\n",
    "\n",
    "# Roll parameters\n",
    "conf.roll_deg        = 0.0\n",
    "conf.std_roll_deg    = 5\n",
    "\n",
    "# Scenario generation\n",
    "write_scenario(conf)"
   ]
  },
  {
   "attachments": {},
   "cell_type": "markdown",
   "metadata": {},
   "source": [
    "## Scenario generation using a `.yaml` config file"
   ]
  },
  {
   "cell_type": "code",
   "execution_count": 6,
   "metadata": {},
   "outputs": [
    {
     "name": "stdout",
     "output_type": "stream",
     "text": [
      "Scenario exported as esp : scenarios/SAEZ_test_17.esp\n",
      "Scenario exported as yaml : scenarios/SAEZ_test_17.yaml\n"
     ]
    }
   ],
   "source": [
    "config = ScenarioConfig(yaml_file=\"params/example_generation.yml\")\n",
    "write_scenario(config)"
   ]
  }
 ],
 "metadata": {
  "kernelspec": {
   "display_name": "Python 3 (ipykernel)",
   "language": "python",
   "name": "python3"
  },
  "language_info": {
   "codemirror_mode": {
    "name": "ipython",
    "version": 3
   },
   "file_extension": ".py",
   "mimetype": "text/x-python",
   "name": "python",
   "nbconvert_exporter": "python",
   "pygments_lexer": "ipython3",
   "version": "3.9.15"
  },
  "vscode": {
   "interpreter": {
    "hash": "6c92753ff5a6b9e8444ec4eb5687a6b399a6ce105039843bee5a46e2a37cb572"
   }
  }
 },
 "nbformat": 4,
 "nbformat_minor": 2
}
