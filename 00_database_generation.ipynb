{
 "cells": [
  {
   "attachments": {},
   "cell_type": "markdown",
   "metadata": {},
   "source": [
    "## Runway database update\n",
    "This notebook guides you through the process of adding or updating runways in the database of airports."
   ]
  },
  {
   "cell_type": "code",
   "execution_count": 1,
   "metadata": {},
   "outputs": [
    {
     "name": "stderr",
     "output_type": "stream",
     "text": [
      "c:\\Users\\vincent.mussot\\Miniconda3\\envs\\LARD_env\\lib\\site-packages\\pyproj\\__init__.py:89: UserWarning: pyproj unable to set database path.\n",
      "  _pyproj_global_context_initialize()\n"
     ]
    }
   ],
   "source": [
    "import json\n",
    "import numpy as np\n",
    "from src.ges.ges_dataset import add_or_update_runways"
   ]
  },
  {
   "attachments": {},
   "cell_type": "markdown",
   "metadata": {},
   "source": [
    "### Open and visualize the database\n",
    "The database is stored in the `data/` folder, but you can use any json file if needed. Note that this database `.json` file is reused during the labeling process and must remain consistent between the generation of a scenario and the labeling of the resulting images."
   ]
  },
  {
   "cell_type": "code",
   "execution_count": 2,
   "metadata": {},
   "outputs": [
    {
     "name": "stdout",
     "output_type": "stream",
     "text": [
      "['ZBAA', 'LTAI', 'LICJ', 'LPPT', 'LIRN', 'EDDV', 'LSZH', 'LEMD', 'LWSK', 'VHHH', 'CYUL', 'VRMM', 'LFSB', 'LCPH', 'GCRR', 'EHAM', 'SAEZ', 'LFRN', 'LFRS', 'LFPO', 'LFQQ', 'LFST', 'LFMP', 'DAAG', 'VABB', 'BIRK', 'YBBN', 'CYVR', 'CYYZ', 'KIAH', 'KJFK', 'KMIA', 'KSFO', 'MDSD', 'RJAA', 'RJTT', 'WSSS', 'FMEP', 'VQPR', 'DIAP', 'KMSY', 'SRLI', 'VDPP', 'RPMD', 'VOTV', 'YMLT', 'OMAD', 'HTDA', 'FTTJ', 'LOWL', 'LGSM', 'DAAS', 'SEQM', 'RANG_2', 'RANG', 'FAKE', 'ESOK', 'ESSV', 'ESNS', 'VEBS', 'RPVP']\n"
     ]
    }
   ],
   "source": [
    "data_file = 'data/runways_database.json'\n",
    "ICAO_airport_list = []\n",
    "with open(data_file, 'r') as f:\n",
    "    runways_database = json.load(f)\n",
    "ICAO_airport_list = [airport for airport in runways_database]\n",
    "\n",
    "print(ICAO_airport_list)"
   ]
  },
  {
   "cell_type": "code",
   "execution_count": 10,
   "metadata": {},
   "outputs": [
    {
     "name": "stdout",
     "output_type": "stream",
     "text": [
      "Runway 32\n",
      "| Corner  A\n",
      "| |  latitude:  20.260783701563856\n",
      "| | longitude:  85.80492260057203\n",
      "| |  altitude:  53.0\n",
      "| Corner  B\n",
      "| |  latitude:  20.26099946989214\n",
      "| | longitude:  85.80526793496004\n",
      "| |  altitude:  53.0\n",
      "| Corner  C\n",
      "| |  latitude:  20.24077472166159\n",
      "| | longitude:  85.82041184792992\n",
      "| |  altitude:  61.0\n",
      "| Corner  D\n",
      "| |  latitude:  20.240994319805523\n",
      "| | longitude:  85.82074343177473\n",
      "| |  altitude:  61.0\n",
      "Runway 14\n",
      "| Corner  A\n",
      "| |  latitude:  20.24077472166159\n",
      "| | longitude:  85.82041184792992\n",
      "| |  altitude:  61.0\n",
      "| Corner  B\n",
      "| |  latitude:  20.240994319805523\n",
      "| | longitude:  85.82074343177473\n",
      "| |  altitude:  61.0\n",
      "| Corner  C\n",
      "| |  latitude:  20.260783701563856\n",
      "| | longitude:  85.80492260057203\n",
      "| |  altitude:  53.0\n",
      "| Corner  D\n",
      "| |  latitude:  20.26099946989214\n",
      "| | longitude:  85.80526793496004\n",
      "| |  altitude:  53.0\n"
     ]
    }
   ],
   "source": [
    "# You can directly visualize the airport database in the .json file, \n",
    "# or you can explore the runways of a specific airport as follows\n",
    "data_file = 'data/runways_database.json'\n",
    "airport = 'VEBS' # Replace with the chosen airport ICAO code\n",
    "\n",
    "with open(data_file, 'r') as f:\n",
    "    runways_database = json.load(f)\n",
    "    for runway in runways_database[airport]:\n",
    "        print(\"Runway\", runway)\n",
    "        for point in runways_database[airport][runway]:\n",
    "            print(\"| Corner \", point)\n",
    "            print(\"| |  latitude: \", runways_database[airport][runway][point]['coordinate']['latitude'])\n",
    "            print(\"| | longitude: \", runways_database[airport][runway][point]['coordinate']['longitude'])\n",
    "            print(\"| |  altitude: \", runways_database[airport][runway][point]['coordinate']['altitude'])"
   ]
  },
  {
   "attachments": {},
   "cell_type": "markdown",
   "metadata": {},
   "source": [
    "# Updating the database\n",
    "These examples guides you through adding new runways or updating existing ones in the runways database.\n",
    "- ❗️ By default, a runway corresponds to 2 runway ids, one for each side of the runway. Therefore if 2 `runway_ids` are provided, the 4 coordinates will be stored twice in the database, once for each side of the runway with the proper order. Otherwise, the 4 coordinates will be stored only once for the specific `runway_id` specified.\n",
    "- ❗️ The order of the points is important: The first 2 points **MUST** correspond to the first runway indicated in the `runway_ids`. The other 2 points **must always be present**, and will correspond to the second runway ID if present. \n",
    "- ❗️ Runway IDs are strings and may contain letters. It also implies that the runway `01` and the runway `1` will be stored separately in the json file.   "
   ]
  },
  {
   "cell_type": "code",
   "execution_count": 3,
   "metadata": {},
   "outputs": [],
   "source": [
    "# Common usage: adding a runway to the database\n",
    "data_file = 'data/runways_database.json'\n",
    "# ESOK ESSV ESNS VEBS RPVP\n",
    "airport_name = '' # Existing or new airport ICAO code\n",
    "\n",
    "runway_ids = ['', ''] # Supports 1 or 2 runway ID\n",
    "\n",
    "# Coordinates must be a numpy array of 4 coordinates in WGS84 format:\n",
    "# ==> Latitude, Longitude, Altitude in meters.\n",
    "coordinates = np.array([\n",
    "    [               ,            ], # Points 1 and 2 should correspond to the first runway ID\n",
    "    [               ,            ],\n",
    "    [               ,            ], # Points 3 and 4 should correspond to the second runway ID if present,\n",
    "    [               ,            ]  # but these last two points are always required nonetheless\n",
    "    ])\n",
    "\n",
    "# This function will add the existing runway to the database or update its coordinates if it exists\n",
    "add_or_update_runways(data_file, airport_name, runway_ids, coordinates)"
   ]
  },
  {
   "attachments": {},
   "cell_type": "markdown",
   "metadata": {},
   "source": [
    "## Advanced usage\n",
    "- Using another database file (❗️ the file must exist already)"
   ]
  },
  {
   "cell_type": "code",
   "execution_count": 11,
   "metadata": {},
   "outputs": [],
   "source": [
    "# You can specify another file if needed\n",
    "runways_db_name = 'data/runways_database.json' # (file must exist!)\n",
    "airport_name = 'YBBN'\n",
    "runways = ['01', '19'] # Supports 1 or 2 runway ID.\n",
    "# Pay attention to the '01' here, as it might be redundant with an existing runway '1'\n",
    "coordinates = np.array([\n",
    "    [-27.402915287771446, 153.11842342220433, -1 ], # Points 1 and 2 should correspond to the first runway ID\n",
    "    [-27.402734367704532, 153.11802790132325, -1 ],\n",
    "    [-27.374768439323887, 153.1345185366854,  -3 ], # Points 3 and 4 should correspond to the second runway ID if present\n",
    "    [-27.37459000204882,  153.13412570163402, -3 ]])\n",
    "\n",
    "add_or_update_runways(runways_db_name, airport_name, runways, coordinates)"
   ]
  },
  {
   "attachments": {},
   "cell_type": "markdown",
   "metadata": {},
   "source": [
    "- Building a database of buildings or any element visible in aerial images (❗️ file must exist)"
   ]
  },
  {
   "cell_type": "code",
   "execution_count": 5,
   "metadata": {},
   "outputs": [],
   "source": [
    "# We could even build another type of database, for instance specifying the coordinates of buildings\n",
    "runways_db_name = 'data/runways_database.json' # (file must exist!)\n",
    "building_code = 'RANG_2'\n",
    "building = ['RH'] # You can specify a single element, still with its 4 coordinates\n",
    "coordinates = np.array([[43.61339381397081, 1.4000701997991523,160],\n",
    "                        [43.61324525478013, 1.4002130274256368, 160],\n",
    "                        [43.613138447292116, 1.40001454396348,  160],\n",
    "                        [43.61328603577096, 1.3998697046802842, 160]\n",
    "                        ])\n",
    "\n",
    "add_or_update_runways(runways_db_name, building_code, building, coordinates)"
   ]
  }
 ],
 "metadata": {
  "kernelspec": {
   "display_name": "LARD_env",
   "language": "python",
   "name": "python3"
  },
  "language_info": {
   "codemirror_mode": {
    "name": "ipython",
    "version": 3
   },
   "file_extension": ".py",
   "mimetype": "text/x-python",
   "name": "python",
   "nbconvert_exporter": "python",
   "pygments_lexer": "ipython3",
   "version": "3.9.15"
  },
  "vscode": {
   "interpreter": {
    "hash": "842a7088db44c00ca77a3dc61e0a8652101f0fddac8ceb0167a83c71a329c149"
   }
  }
 },
 "nbformat": 4,
 "nbformat_minor": 2
}
